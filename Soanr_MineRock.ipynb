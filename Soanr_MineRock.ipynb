{
  "nbformat": 4,
  "nbformat_minor": 0,
  "metadata": {
    "colab": {
      "provenance": [],
      "authorship_tag": "ABX9TyMmlWEG6RyJpE1ufNnkz5NK",
      "include_colab_link": true
    },
    "kernelspec": {
      "name": "python3",
      "display_name": "Python 3"
    },
    "language_info": {
      "name": "python"
    }
  },
  "cells": [
    {
      "cell_type": "markdown",
      "metadata": {
        "id": "view-in-github",
        "colab_type": "text"
      },
      "source": [
        "<a href=\"https://colab.research.google.com/github/ShrishtiSingh26/SONAR-Rock-vs-Mine-Prediction-/blob/main/Soanr_MineRock.ipynb\" target=\"_parent\"><img src=\"https://colab.research.google.com/assets/colab-badge.svg\" alt=\"Open In Colab\"/></a>"
      ]
    },
    {
      "cell_type": "code",
      "execution_count": null,
      "metadata": {
        "id": "QxhgnOMu-Qb8"
      },
      "outputs": [],
      "source": [
        "import pandas as pd\n",
        "import seaborn as sns\n",
        "import matplotlib.pyplot as plt\n",
        "\n",
        "# Load the dataset\n",
        "data = pd.read_csv('sonar_data.csv')\n",
        "\n",
        "# Display the shape of the dataset\n",
        "print(data.shape())\n",
        "\n",
        "# Display information about the dataset\n",
        "data.info()\n",
        "\n",
        "# Check for missing values in the dataset\n",
        "print(data.isnull().sum())\n",
        "\n",
        "# Get statistical summary of the dataset\n",
        "print(data.describe())\n",
        "\n",
        "# Display the columns of the dataset\n",
        "print(data.columns)\n",
        "\n",
        "# Plot the count of the target variable (assuming it is at index 60)\n",
        "sns.countplot(data[60])\n",
        "plt.show()\n",
        "\n",
        "# Calculate the mean of each feature grouped by the target variable\n",
        "data.groupby(60).mean()\n",
        "\n",
        "# Separate features and target variable\n",
        "x = data.drop(60, axis=1)  # Features\n",
        "y = data[60]                # Target variable\n",
        "\n",
        "# Split the dataset into training and testing sets (80% train, 20% test)\n",
        "from sklearn.model_selection import train_test_split\n",
        "x_train, x_test, y_train, y_test = train_test_split(x, y, test_size=0.20, random_state=42)\n",
        "\n",
        "# Logistic Regression model\n",
        "from sklearn.linear_model import LogisticRegression\n",
        "lr = LogisticRegression()\n",
        "lr.fit(x_train, y_train)             # Train the model\n",
        "y_pred1 = lr.predict(x_test)         # Make predictions\n",
        "print(\"Logistic Regression Accuracy:\", accuracy_score(y_test, y_pred1))  # Calculate accuracy\n",
        "\n",
        "# K-Nearest Neighbors model\n",
        "from sklearn.neighbors import KNeighborsClassifier\n",
        "knn = KNeighborsClassifier(n_neighbors=3)\n",
        "knn.fit(x_train, y_train)            # Train the model\n",
        "y_pred2 = knn.predict(x_test)        # Make predictions\n",
        "print(\"KNN Accuracy:\", accuracy_score(y_test, y_pred2))  # Calculate accuracy\n",
        "\n",
        "# Random Forest model\n",
        "from sklearn.ensemble import RandomForestClassifier\n",
        "rf = RandomForestClassifier()\n",
        "rf.fit(x_train, y_train)              # Train the model\n",
        "y_pred3 = rf.predict(x_test)          # Make predictions\n",
        "print(\"Random Forest Accuracy:\", accuracy_score(y_test, y_pred3))  # Calculate accuracy\n",
        "\n",
        "# Stochastic Gradient Descent model\n",
        "from sklearn.linear_model import SGDClassifier\n",
        "sgd = SGDClassifier()\n",
        "\n",
        "# Train using partial_fit\n",
        "for i in range(len(x_train)):  # Corrected from 'ramge' to 'range'\n",
        "    sgd.partial_fit(x_train[i:i+1], y_train[i:i+1], classes=['R', 'M'])\n",
        "\n",
        "# Calculate and print the score on the test set\n",
        "score = sgd.score(x_test, y_test)\n",
        "print(\"SGD Classifier Accuracy:\", score)"
      ]
    }
  ]
}